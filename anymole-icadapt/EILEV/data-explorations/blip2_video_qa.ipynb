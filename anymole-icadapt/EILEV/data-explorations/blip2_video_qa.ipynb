{
 "cells": [
  {
   "attachments": {},
   "cell_type": "markdown",
   "metadata": {},
   "source": [
    "# Video QA with BLIP2"
   ]
  },
  {
   "attachments": {},
   "cell_type": "markdown",
   "metadata": {},
   "source": [
    "Load the clip for an arbitrary action from Ego4d."
   ]
  },
  {
   "cell_type": "code",
   "execution_count": null,
   "metadata": {},
   "outputs": [],
   "source": [
    "import json\n",
    "\n",
    "from pytorchvideo.data.video import VideoPathHandler\n",
    "\n",
    "with open(\"../../ego4d/v2/annotations/fho_main.json\") as f:\n",
    "    fho_main = json.load(f)\n",
    "\n",
    "video = fho_main[\"videos\"][20]\n",
    "interval = video[\"annotated_intervals\"][2]\n",
    "action = interval[\"narrated_actions\"][4]\n",
    "\n",
    "print(f'video_uid: {video[\"video_uid\"]}')\n",
    "print(f'start_sec: {action[\"start_sec\"]}')\n",
    "print(f'end_sec: {action[\"end_sec\"]}')\n",
    "print(f'clip_uid: {interval[\"clip_uid\"]}')\n",
    "print(f'clip_start_sec: {action[\"clip_start_sec\"]}')\n",
    "print(f'clip_end_sec: {action[\"clip_end_sec\"]}')\n",
    "print(f'narration_text: {action[\"narration_text\"]}')\n",
    "\n",
    "video_path_handler = VideoPathHandler()\n",
    "video = video_path_handler.video_from_path(\n",
    "    f\"../../ego4d/v2/clips/{interval['clip_uid']}.mp4\"\n",
    ")\n",
    "clip = video.get_clip(action[\"clip_start_sec\"], action[\"clip_end_sec\"])"
   ]
  },
  {
   "attachments": {},
   "cell_type": "markdown",
   "metadata": {},
   "source": [
    "Load `Salesforce/blip2-opt-2.7b`."
   ]
  },
  {
   "cell_type": "code",
   "execution_count": null,
   "metadata": {},
   "outputs": [],
   "source": [
    "import torch\n",
    "from transformers import Blip2ForConditionalGeneration, Blip2Processor\n",
    "\n",
    "device = \"cuda\" if torch.cuda.is_available() else \"cpu\"\n",
    "processor = Blip2Processor.from_pretrained(\"Salesforce/blip2-opt-2.7b\")\n",
    "model = Blip2ForConditionalGeneration.from_pretrained(\"Salesforce/blip2-opt-2.7b\").to(\n",
    "    device\n",
    ")"
   ]
  },
  {
   "attachments": {},
   "cell_type": "markdown",
   "metadata": {},
   "source": [
    "Try to perform VideoQA using the middle frame."
   ]
  },
  {
   "cell_type": "code",
   "execution_count": null,
   "metadata": {},
   "outputs": [],
   "source": [
    "prompt = \"Question: what is the camera wearer doing? Answer:\"\n",
    "inputs = processor(\n",
    "    images=clip[\"video\"][:, clip[\"video\"].size(1) // 2, ...],\n",
    "    text=prompt,\n",
    "    return_tensors=\"pt\",\n",
    ").to(device)\n",
    "print(f\"inputs: {({k: v.size() for k, v in inputs.items()})}\")\n",
    "generated_ids = model.generate(**inputs)\n",
    "generated_text = processor.batch_decode(generated_ids, skip_special_tokens=True)[\n",
    "    0\n",
    "].strip()\n",
    "print(f\"generated_text: {generated_text}\")"
   ]
  },
  {
   "attachments": {},
   "cell_type": "markdown",
   "metadata": {},
   "source": [
    "Try to perform VideoQA using the mean of image features."
   ]
  },
  {
   "cell_type": "code",
   "execution_count": null,
   "metadata": {},
   "outputs": [],
   "source": [
    "# hacky monkeypatching to replace the original vision model\n",
    "# with a simple mean vision model\n",
    "import torch.nn as nn\n",
    "\n",
    "\n",
    "class MeanVisionModel(nn.Module):\n",
    "    def __init__(self, blip2_vision_model):\n",
    "        super().__init__()\n",
    "        self.blip2_vision_model = blip2_vision_model\n",
    "\n",
    "    def forward(\n",
    "        self,\n",
    "        pixel_values=None,\n",
    "        output_attentions=None,\n",
    "        output_hidden_states=None,\n",
    "        return_dict=None,\n",
    "    ):\n",
    "        # pixel_values: (B, C, T, H, W)\n",
    "        vision_outputs = self.blip2_vision_model(\n",
    "            pixel_values=pixel_values.permute(0, 2, 1, 3, 4).flatten(end_dim=1),\n",
    "            output_attentions=output_attentions,\n",
    "            output_hidden_states=output_hidden_states,\n",
    "            return_dict=return_dict,\n",
    "        )\n",
    "        # last_hidden_state: (B*T, seq_len, hidden_size)\n",
    "        if return_dict:\n",
    "            last_hidden_state = vision_outputs.last_hidden_state\n",
    "        else:\n",
    "            last_hidden_state = vision_outputs[0]\n",
    "        seq_len = last_hidden_state.size(1)\n",
    "        batch_size, _, time, _, _ = pixel_values.size()\n",
    "        last_hidden_state = last_hidden_state.view(batch_size, time, seq_len, -1).mean(\n",
    "            dim=1\n",
    "        )\n",
    "\n",
    "        if return_dict:\n",
    "            vision_outputs[\"last_hidden_state\"] = last_hidden_state\n",
    "            return vision_outputs\n",
    "        else:\n",
    "            return (last_hidden_state,) + vision_outputs[1:]\n",
    "\n",
    "\n",
    "original_vision_model = model.vision_model\n",
    "model.vision_model = MeanVisionModel(original_vision_model)"
   ]
  },
  {
   "cell_type": "code",
   "execution_count": null,
   "metadata": {},
   "outputs": [],
   "source": [
    "inputs = processor(\n",
    "    images=clip[\"video\"].permute(1, 0, 2, 3), text=prompt, return_tensors=\"pt\"\n",
    ").to(device)\n",
    "inputs[\"pixel_values\"] = inputs[\"pixel_values\"].permute(1, 0, 2, 3).unsqueeze(0)\n",
    "print(f\"inputs: {({k: v.size() for k, v in inputs.items()})}\")\n",
    "generated_ids = model.generate(**inputs)\n",
    "generated_text = processor.batch_decode(generated_ids, skip_special_tokens=True)[\n",
    "    0\n",
    "].strip()\n",
    "print(f\"generated_text: {generated_text}\")"
   ]
  }
 ],
 "metadata": {
  "kernelspec": {
   "display_name": "fbev-jEv4LXUZ-py3.10",
   "language": "python",
   "name": "python3"
  },
  "language_info": {
   "codemirror_mode": {
    "name": "ipython",
    "version": 3
   },
   "file_extension": ".py",
   "mimetype": "text/x-python",
   "name": "python",
   "nbconvert_exporter": "python",
   "pygments_lexer": "ipython3",
   "version": "3.10.10"
  }
 },
 "nbformat": 4,
 "nbformat_minor": 2
}
