{
 "cells": [
  {
   "attachments": {},
   "cell_type": "markdown",
   "metadata": {},
   "source": [
    "# `fho_main.json` Data Exploration"
   ]
  },
  {
   "cell_type": "code",
   "execution_count": null,
   "metadata": {},
   "outputs": [],
   "source": [
    "# required imports\n",
    "import json\n",
    "import math\n",
    "import re\n",
    "import string\n",
    "\n",
    "import matplotlib.pyplot as plt\n",
    "\n",
    "%matplotlib inline\n"
   ]
  },
  {
   "attachments": {},
   "cell_type": "markdown",
   "metadata": {},
   "source": [
    "First load `fho_main.json`."
   ]
  },
  {
   "cell_type": "code",
   "execution_count": null,
   "metadata": {},
   "outputs": [],
   "source": [
    "with open(\"../../../ego4d/v2/annotations/fho_main.json\") as f:\n",
    "    fho_main = json.load(f)\n"
   ]
  },
  {
   "attachments": {},
   "cell_type": "markdown",
   "metadata": {},
   "source": [
    "Let's verify if `is_rejected` is correlated to `is_valid_action`."
   ]
  },
  {
   "cell_type": "code",
   "execution_count": null,
   "metadata": {},
   "outputs": [],
   "source": [
    "for video in fho_main[\"videos\"]:\n",
    "    for interval in video[\"annotated_intervals\"]:\n",
    "        for action in interval[\"narrated_actions\"]:\n",
    "            if action[\"is_valid_action\"] == action[\"is_rejected\"]:\n",
    "                # if we're here, it means either 1. it's a valid action but\n",
    "                # not rejected, or 2. it's not a valid action but it's accepted.\n",
    "                print(f'is_valid_action: {action[\"is_valid_action\"]}')\n",
    "                print(f'is_rejected: {action[\"is_rejected\"]}')\n",
    "                print(f'uid: {action[\"uid\"]}')\n",
    "                print(f'narration_text: {action[\"narration_text\"]}')\n",
    "                print(f'video_uid: {video[\"video_uid\"]}')\n",
    "                print(f'clip_uid: {interval[\"clip_uid\"]}')\n",
    "                print(\"========================================================\")\n"
   ]
  },
  {
   "attachments": {},
   "cell_type": "markdown",
   "metadata": {},
   "source": [
    "How about actions that are not rejected, prefixed by `#C` but not valid?"
   ]
  },
  {
   "cell_type": "code",
   "execution_count": null,
   "metadata": {},
   "outputs": [],
   "source": [
    "for video in fho_main[\"videos\"]:\n",
    "    for interval in video[\"annotated_intervals\"]:\n",
    "        for action in interval[\"narrated_actions\"]:\n",
    "            if (\n",
    "                not action[\"is_rejected\"]\n",
    "                and action[\"narration_text\"].startswith(\"#C\")\n",
    "                and not action[\"is_valid_action\"]\n",
    "            ):\n",
    "                print(f'is_valid_action: {action[\"is_valid_action\"]}')\n",
    "                print(f'is_rejected: {action[\"is_rejected\"]}')\n",
    "                print(f'uid: {action[\"uid\"]}')\n",
    "                print(f'narration_text: {action[\"narration_text\"]}')\n",
    "                print(f'video_uid: {video[\"video_uid\"]}')\n",
    "                print(f'clip_uid: {interval[\"clip_uid\"]}')\n",
    "                print(\"========================================================\")\n"
   ]
  },
  {
   "attachments": {},
   "cell_type": "markdown",
   "metadata": {},
   "source": [
    "Is `(start_sec, end_sec)` same as `(clip_start_sec, clip_end_sec)`?"
   ]
  },
  {
   "cell_type": "code",
   "execution_count": null,
   "metadata": {},
   "outputs": [],
   "source": [
    "for video in fho_main[\"videos\"]:\n",
    "    for interval in video[\"annotated_intervals\"]:\n",
    "        for action in interval[\"narrated_actions\"]:\n",
    "            if not math.isclose(\n",
    "                action[\"start_sec\"], action[\"clip_start_sec\"], rel_tol=1e-5\n",
    "            ) or not math.isclose(\n",
    "                action[\"end_sec\"], action[\"clip_end_sec\"], rel_tol=1e-5\n",
    "            ):\n",
    "                print(f'start_sec: {action[\"start_sec\"]}')\n",
    "                print(f'clip_start_sec: {action[\"clip_start_sec\"]}')\n",
    "                print(f'end_sec: {action[\"end_sec\"]}')\n",
    "                print(f'clip_end_sec: {action[\"clip_end_sec\"]}')\n",
    "                print(f'uid: {action[\"uid\"]}')\n",
    "                print(f'narration_text: {action[\"narration_text\"]}')\n",
    "                print(f'video_uid: {video[\"video_uid\"]}')\n",
    "                print(f'clip_uid: {interval[\"clip_uid\"]}')\n",
    "                print(\"========================================================\")\n"
   ]
  },
  {
   "attachments": {},
   "cell_type": "markdown",
   "metadata": {},
   "source": [
    "`(start_sec, end_sec)` and `(clip_start_sec, clip_end_sec)` are not the same. The former denotes the times from the full video, while the latter denotes the times from clips."
   ]
  },
  {
   "attachments": {},
   "cell_type": "markdown",
   "metadata": {},
   "source": [
    "How long are action clips?"
   ]
  },
  {
   "cell_type": "code",
   "execution_count": null,
   "metadata": {},
   "outputs": [],
   "source": [
    "action_times = []\n",
    "for video in fho_main[\"videos\"]:\n",
    "    for interval in video[\"annotated_intervals\"]:\n",
    "        for action in interval[\"narrated_actions\"]:\n",
    "            action_time = action[\"clip_end_sec\"] - action[\"clip_start_sec\"]\n",
    "            if action_time < 3:\n",
    "                print(f'start_frame: {action[\"start_frame\"]}')\n",
    "                print(f'end_frame: {action[\"end_frame\"]}')\n",
    "                print(f'uid: {action[\"uid\"]}')\n",
    "                print(f'narration_text: {action[\"narration_text\"]}')\n",
    "                print(f'video_uid: {video[\"video_uid\"]}')\n",
    "                print(f'clip_uid: {interval[\"clip_uid\"]}')\n",
    "                print(\"========================================================\")\n",
    "            action_times.append(action_time)\n",
    "\n",
    "n, bins, patches = plt.hist(action_times)\n",
    "\n",
    "# Annotate the frequency above each bar\n",
    "for i in range(len(n)):\n",
    "    plt.annotate(\n",
    "        f\"{n[i]:.0f}\",\n",
    "        xy=((bins[i] + bins[i + 1]) / 2, n[i]),\n",
    "        xytext=(0, 5),\n",
    "        textcoords=\"offset points\",\n",
    "        ha=\"center\",\n",
    "        va=\"bottom\",\n",
    "    )\n",
    "\n",
    "# Add labels and a title\n",
    "plt.xlabel(\"Seconds\")\n",
    "plt.ylabel(\"Number of Actions\")\n",
    "plt.title(\"Action Duration\")\n",
    "\n",
    "# Display the plot\n",
    "plt.show()\n"
   ]
  },
  {
   "attachments": {},
   "cell_type": "markdown",
   "metadata": {},
   "source": [
    "How long are actual actions?"
   ]
  },
  {
   "cell_type": "code",
   "execution_count": null,
   "metadata": {},
   "outputs": [],
   "source": [
    "import csv\n",
    "from fractions import Fraction\n",
    "\n",
    "csvfile = open(\"no_critical_frames.csv\", \"w\", newline=\"\")\n",
    "csv_writer = csv.writer(csvfile)\n",
    "csv_writer.writerow(\n",
    "    [\"video_uid\", \"action_index\", \"start_sec\", \"end_sec\", \"narration_text\"]\n",
    ")\n",
    "action_times = []\n",
    "for video in fho_main[\"videos\"]:\n",
    "    for interval in video[\"annotated_intervals\"]:\n",
    "        for i, action in enumerate(interval[\"narrated_actions\"]):\n",
    "            if action[\"critical_frames\"] is None:\n",
    "                action_times.append(-1)\n",
    "                csv_writer.writerow(\n",
    "                    [\n",
    "                        video[\"video_uid\"],\n",
    "                        i,\n",
    "                        action[\"start_sec\"],\n",
    "                        action[\"end_sec\"],\n",
    "                        action[\"narration_text\"],\n",
    "                    ]\n",
    "                )\n",
    "                continue\n",
    "            start = Fraction(\n",
    "                action[\"critical_frames\"][\"pre_frame\"],\n",
    "                int(video[\"video_metadata\"][\"fps\"]),\n",
    "            )\n",
    "            end = Fraction(\n",
    "                action[\"critical_frames\"][\"post_frame\"],\n",
    "                int(video[\"video_metadata\"][\"fps\"]),\n",
    "            )\n",
    "            action_time = float(end - start)\n",
    "            action_times.append(action_time)\n",
    "\n",
    "csvfile.close()\n",
    "\n",
    "n, bins, patches = plt.hist(action_times)\n",
    "\n",
    "# Annotate the frequency above each bar\n",
    "for i in range(len(n)):\n",
    "    plt.annotate(\n",
    "        f\"{n[i]:.0f}\",\n",
    "        xy=((bins[i] + bins[i + 1]) / 2, n[i]),\n",
    "        xytext=(0, 5),\n",
    "        textcoords=\"offset points\",\n",
    "        ha=\"center\",\n",
    "        va=\"bottom\",\n",
    "    )\n",
    "\n",
    "# Add labels and a title\n",
    "plt.xlabel(\"Seconds\")\n",
    "plt.ylabel(\"Number of Actions\")\n",
    "plt.title(\"Action Duration\")\n",
    "\n",
    "# Display the plot\n",
    "plt.show()\n"
   ]
  },
  {
   "attachments": {},
   "cell_type": "markdown",
   "metadata": {},
   "source": [
    "Do all `narrated_text`s end with a punctuation?"
   ]
  },
  {
   "cell_type": "code",
   "execution_count": null,
   "metadata": {},
   "outputs": [],
   "source": [
    "from eilev.data.utils import clean_narration_text\n",
    "\n",
    "punc_counts = {p: 0 for p in string.punctuation}\n",
    "punc_counts[\"OTHERS\"] = 0\n",
    "punc_counts[\"EMPTY\"] = 0\n",
    "for video in fho_main[\"videos\"]:\n",
    "    for interval in video[\"annotated_intervals\"]:\n",
    "        for action in interval[\"narrated_actions\"]:\n",
    "            cleaned = clean_narration_text(action[\"narration_text\"])\n",
    "            if len(cleaned) == 0:\n",
    "                punc_counts[\"EMPTY\"] += 1\n",
    "                continue\n",
    "            last_char = cleaned[-1]\n",
    "            if last_char in punc_counts:\n",
    "                punc_counts[last_char] += 1\n",
    "            else:\n",
    "                punc_counts[\"OTHERS\"] += 1\n",
    "\n",
    "filtered_counts = {k: v for k, v in punc_counts.items() if v > 0}\n",
    "\n",
    "# Create a bar graph\n",
    "bars = plt.bar(filtered_counts.keys(), filtered_counts.values())\n",
    "\n",
    "# Add labels and a title\n",
    "plt.xlabel(\"Punctuation\")\n",
    "plt.ylabel(\"Frequency\")\n",
    "plt.title(\"Frequency of Sentence Endings with Punctuation\")\n",
    "\n",
    "# Annotate the count above each bar\n",
    "for bar in bars:\n",
    "    plt.annotate(\n",
    "        f\"{bar.get_height():.0f}\",\n",
    "        xy=(bar.get_x() + bar.get_width() / 2, bar.get_height()),\n",
    "        xytext=(0, 3),\n",
    "        textcoords=\"offset points\",\n",
    "        ha=\"center\",\n",
    "        va=\"bottom\",\n",
    "    )\n",
    "\n",
    "# Display the plot\n",
    "plt.show()\n"
   ]
  },
  {
   "attachments": {},
   "cell_type": "markdown",
   "metadata": {},
   "source": [
    "Any `#summary`s?"
   ]
  },
  {
   "cell_type": "code",
   "execution_count": null,
   "metadata": {},
   "outputs": [],
   "source": [
    "SUMMARY_REGEX = re.compile(r\"\\#summary\", re.IGNORECASE)\n",
    "for video in fho_main[\"videos\"]:\n",
    "    for interval in video[\"annotated_intervals\"]:\n",
    "        for action in interval[\"narrated_actions\"]:\n",
    "            if SUMMARY_REGEX.search(action[\"narration_text\"]):\n",
    "                print(f'uid: {action[\"uid\"]}')\n",
    "                print(f'narration_text: {action[\"narration_text\"]}')\n",
    "                print(f'video_uid: {video[\"video_uid\"]}')\n",
    "                print(f'clip_uid: {interval[\"clip_uid\"]}')\n",
    "                print(\"========================================================\")\n"
   ]
  },
  {
   "attachments": {},
   "cell_type": "markdown",
   "metadata": {},
   "source": [
    "Is `#unsure` always at the end?"
   ]
  },
  {
   "cell_type": "code",
   "execution_count": null,
   "metadata": {},
   "outputs": [],
   "source": [
    "UNSURE_REGEX = re.compile(r\"\\#unsure\", re.IGNORECASE)\n",
    "ENDS_WITH_UNSURE_REGEX = re.compile(r\"\\#unsure$\", re.IGNORECASE)\n",
    "for video in fho_main[\"videos\"]:\n",
    "    for interval in video[\"annotated_intervals\"]:\n",
    "        for action in interval[\"narrated_actions\"]:\n",
    "            if UNSURE_REGEX.search(\n",
    "                action[\"narration_text\"]\n",
    "            ) and not ENDS_WITH_UNSURE_REGEX.search(action[\"narration_text\"].strip()):\n",
    "                print(f'uid: {action[\"uid\"]}')\n",
    "                print(f'narration_text: {action[\"narration_text\"]}<|eos|>')\n",
    "                print(f'video_uid: {video[\"video_uid\"]}')\n",
    "                print(f'clip_uid: {interval[\"clip_uid\"]}')\n",
    "                print(\"========================================================\")\n"
   ]
  },
  {
   "attachments": {},
   "cell_type": "markdown",
   "metadata": {},
   "source": [
    "What's the relationship between `fho_hands_test_unannotated.json` and `fho_main.json`?"
   ]
  },
  {
   "cell_type": "code",
   "execution_count": null,
   "metadata": {},
   "outputs": [],
   "source": [
    "with open(\"../../ego4d/v2/annotations/fho_hands_test_unannotated.json\") as f:\n",
    "    fho_hands_test_unannotated = json.load(f)\n",
    "\n",
    "video_uids_test_unannotated = set(\n",
    "    clip[\"video_uid\"] for clip in fho_hands_test_unannotated[\"clips\"]\n",
    ")\n",
    "video_uids_main = set(video[\"video_uid\"] for video in fho_main[\"videos\"])\n",
    "\n",
    "print(f\"len(video_uids_test_unannotated) = {len(video_uids_test_unannotated)}\")\n",
    "print(f\"len(video_uids_main) = {len(video_uids_main)}\")\n",
    "print(\n",
    "    \"len(video_uids_test_unannotated.intersection(video_uids_main)) = \"\n",
    "    f\"{len(video_uids_test_unannotated.intersection(video_uids_main))}\"\n",
    ")\n",
    "\n",
    "# some frames in test unannotated don't have pre frames, so use pre_45\n",
    "pre_45_test_unannotated = set(\n",
    "    (clip[\"video_uid\"], frame[\"pre_45\"][\"frame\"])\n",
    "    for clip in fho_hands_test_unannotated[\"clips\"]\n",
    "    for frame in clip[\"frames\"]\n",
    ")\n",
    "pre_45_main = set(\n",
    "    (video[\"video_uid\"], action[\"critical_frames\"][\"pre_45\"])\n",
    "    for video in fho_main[\"videos\"]\n",
    "    for interval in video[\"annotated_intervals\"]\n",
    "    for action in interval[\"narrated_actions\"]\n",
    "    if action[\"critical_frames\"] is not None\n",
    ")\n",
    "\n",
    "print(f\"len(pre_frame_test_unannotated) = {len(pre_45_test_unannotated )}\")\n",
    "print(f\"len(pre_frame_main) = {len(pre_45_main)}\")\n",
    "print(\n",
    "    \"len(pre_frame_test_unannotated.intersection(pre_frame_main)) = \"\n",
    "    f\"{len(pre_45_test_unannotated.intersection(pre_45_main))}\"\n",
    ")\n"
   ]
  },
  {
   "cell_type": "markdown",
   "metadata": {},
   "source": [
    "List actions without critical frames."
   ]
  },
  {
   "cell_type": "code",
   "execution_count": null,
   "metadata": {},
   "outputs": [],
   "source": [
    "C_REGEX = re.compile(r\"^\\#C\\s+C\", re.IGNORECASE)\n",
    "\n",
    "for video in fho_main[\"videos\"]:\n",
    "    for interval in video[\"annotated_intervals\"]:\n",
    "        for action in interval[\"narrated_actions\"]:\n",
    "            if (\n",
    "                action[\"critical_frames\"] is None\n",
    "                and not action[\"is_rejected\"]\n",
    "                and action[\"is_valid_action\"]\n",
    "                and C_REGEX.match(action[\"narration_text\"]) is not None\n",
    "            ):\n",
    "                print(\n",
    "                    f'{video[\"video_uid\"]}: ({action[\"start_sec\"], action[\"end_sec\"]})'\n",
    "                    f', {action[\"narration_text\"]}'\n",
    "                )\n"
   ]
  }
 ],
 "metadata": {
  "kernelspec": {
   "display_name": "fbev-jEv4LXUZ-py3.10",
   "language": "python",
   "name": "python3"
  },
  "language_info": {
   "codemirror_mode": {
    "name": "ipython",
    "version": 3
   },
   "file_extension": ".py",
   "mimetype": "text/x-python",
   "name": "python",
   "nbconvert_exporter": "python",
   "pygments_lexer": "ipython3",
   "version": "3.10.10"
  }
 },
 "nbformat": 4,
 "nbformat_minor": 2
}
