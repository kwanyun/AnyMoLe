{
 "cells": [
  {
   "attachments": {},
   "cell_type": "markdown",
   "metadata": {},
   "source": [
    "# Video QA with VideoBLIP"
   ]
  },
  {
   "attachments": {},
   "cell_type": "markdown",
   "metadata": {},
   "source": [
    "Load the clip for an arbitrary action from Ego4d."
   ]
  },
  {
   "cell_type": "code",
   "execution_count": null,
   "metadata": {},
   "outputs": [],
   "source": [
    "import json\n",
    "\n",
    "from pytorchvideo.data.video import VideoPathHandler\n",
    "\n",
    "with open(\"../../ego4d/v2/annotations/fho_main.json\") as f:\n",
    "    fho_main = json.load(f)\n",
    "\n",
    "video = fho_main[\"videos\"][20]\n",
    "interval = video[\"annotated_intervals\"][2]\n",
    "action = interval[\"narrated_actions\"][4]\n",
    "\n",
    "print(f'video_uid: {video[\"video_uid\"]}')\n",
    "print(f'start_sec: {action[\"start_sec\"]}')\n",
    "print(f'end_sec: {action[\"end_sec\"]}')\n",
    "print(f'narration_text: {action[\"narration_text\"]}')\n",
    "\n",
    "video_path_handler = VideoPathHandler()\n",
    "video = video_path_handler.video_from_path(\n",
    "    f\"../../ego4d/v2/full_scale/{video['video_uid']}.mp4\"\n",
    ")\n",
    "clip = video.get_clip(action[\"start_sec\"], action[\"end_sec\"])\n"
   ]
  },
  {
   "attachments": {},
   "cell_type": "markdown",
   "metadata": {},
   "source": [
    "Load `ego-video-blip2-opt-2.7b-subsample-8`."
   ]
  },
  {
   "cell_type": "code",
   "execution_count": null,
   "metadata": {},
   "outputs": [],
   "source": [
    "import torch\n",
    "from transformers import Blip2Processor\n",
    "\n",
    "from eilev.model import VideoBlipForConditionalGeneration, process\n",
    "\n",
    "device = \"cuda\" if torch.cuda.is_available() else \"cpu\"\n",
    "pretrained = \"../../checkpoints/ego-video-blip2/ego-video-blip2-opt-2.7b-subsample-8\"\n",
    "processor = Blip2Processor.from_pretrained(pretrained)\n",
    "model = VideoBlipForConditionalGeneration.from_pretrained(pretrained).to(device)\n"
   ]
  },
  {
   "attachments": {},
   "cell_type": "markdown",
   "metadata": {},
   "source": [
    "Perform Video QA without frame subsampling."
   ]
  },
  {
   "cell_type": "code",
   "execution_count": null,
   "metadata": {},
   "outputs": [],
   "source": [
    "prompt = \"Question: what is the camera wearer doing? Answer:\"\n",
    "inputs = process(processor, images=clip[\"video\"], text=prompt, return_tensors=\"pt\").to(\n",
    "    device\n",
    ")\n",
    "print(f\"inputs: {({k: v.size() for k, v in inputs.items()})}\")\n",
    "with torch.no_grad():\n",
    "    generated_ids = model.generate(**inputs)\n",
    "generated_text = processor.batch_decode(generated_ids, skip_special_tokens=True)[\n",
    "    0\n",
    "].strip()\n",
    "print(f\"generated_text: {generated_text}\")\n"
   ]
  },
  {
   "attachments": {},
   "cell_type": "markdown",
   "metadata": {},
   "source": [
    "Now with temporal frame subsampling."
   ]
  },
  {
   "cell_type": "code",
   "execution_count": null,
   "metadata": {},
   "outputs": [],
   "source": [
    "# sample a frame every 30 frames, i.e., 1 FPS\n",
    "frames = clip[\"video\"][:, ::30, ...]\n",
    "\n",
    "inputs = process(processor, images=frames, text=prompt, return_tensors=\"pt\").to(device)\n",
    "print(f\"inputs: {({k: v.size() for k, v in inputs.items()})}\")\n",
    "with torch.no_grad():\n",
    "    generated_ids = model.generate(**inputs)\n",
    "generated_text = processor.batch_decode(generated_ids, skip_special_tokens=True)[\n",
    "    0\n",
    "].strip()\n",
    "print(f\"generated_text: {generated_text}\")\n",
    "del model\n",
    "torch.cuda.empty_cache()\n"
   ]
  },
  {
   "attachments": {},
   "cell_type": "markdown",
   "metadata": {},
   "source": [
    "Load `ego-video-blip2-flan-t5-xl-subsample-8`."
   ]
  },
  {
   "cell_type": "code",
   "execution_count": null,
   "metadata": {},
   "outputs": [],
   "source": [
    "pretrained = \"../../checkpoints/ego-video-blip2/ego-video-blip2-flan-t5-xl-subsample-8\"\n",
    "processor = Blip2Processor.from_pretrained(pretrained)\n",
    "model = VideoBlipForConditionalGeneration.from_pretrained(pretrained).to(device)\n"
   ]
  },
  {
   "attachments": {},
   "cell_type": "markdown",
   "metadata": {},
   "source": [
    "Perform Video QA without frame subsampling."
   ]
  },
  {
   "cell_type": "code",
   "execution_count": null,
   "metadata": {},
   "outputs": [],
   "source": [
    "inputs = process(processor, images=clip[\"video\"], text=prompt, return_tensors=\"pt\").to(\n",
    "    device\n",
    ")\n",
    "print(f\"inputs: {({k: v.size() for k, v in inputs.items()})}\")\n",
    "with torch.no_grad():\n",
    "    generated_ids = model.generate(**inputs)\n",
    "generated_text = processor.batch_decode(generated_ids, skip_special_tokens=True)[\n",
    "    0\n",
    "].strip()\n",
    "print(f\"generated_text: {generated_text}\")\n"
   ]
  },
  {
   "attachments": {},
   "cell_type": "markdown",
   "metadata": {},
   "source": [
    "Now with uniform temporal frame subsampling."
   ]
  },
  {
   "cell_type": "code",
   "execution_count": null,
   "metadata": {},
   "outputs": [],
   "source": [
    "# sample a frame every 30 frames, i.e., 1 FPS\n",
    "frames = clip[\"video\"][:, ::30, ...]\n",
    "\n",
    "inputs = process(processor, images=frames, text=prompt, return_tensors=\"pt\").to(device)\n",
    "print(f\"inputs: {({k: v.size() for k, v in inputs.items()})}\")\n",
    "with torch.no_grad():\n",
    "    generated_ids = model.generate(**inputs)\n",
    "generated_text = processor.batch_decode(generated_ids, skip_special_tokens=True)[\n",
    "    0\n",
    "].strip()\n",
    "print(f\"generated_text: {generated_text}\")\n",
    "del model\n",
    "torch.cuda.empty_cache()\n"
   ]
  }
 ],
 "metadata": {
  "kernelspec": {
   "display_name": "fbev-jEv4LXUZ-py3.10",
   "language": "python",
   "name": "python3"
  },
  "language_info": {
   "codemirror_mode": {
    "name": "ipython",
    "version": 3
   },
   "file_extension": ".py",
   "mimetype": "text/x-python",
   "name": "python",
   "nbconvert_exporter": "python",
   "pygments_lexer": "ipython3",
   "version": "3.10.10"
  }
 },
 "nbformat": 4,
 "nbformat_minor": 2
}
