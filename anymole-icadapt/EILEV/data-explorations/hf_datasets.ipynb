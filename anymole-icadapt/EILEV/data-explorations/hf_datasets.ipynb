{
 "cells": [
  {
   "attachments": {},
   "cell_type": "markdown",
   "metadata": {},
   "source": [
    "# Dataset Handling Using Hugging Face Datasets"
   ]
  },
  {
   "attachments": {},
   "cell_type": "markdown",
   "metadata": {},
   "source": [
    "Load `fho_main.json`."
   ]
  },
  {
   "cell_type": "code",
   "execution_count": null,
   "metadata": {},
   "outputs": [],
   "source": [
    "import json\n",
    "\n",
    "with open(\"../../ego4d/v2/annotations/fho_main.json\") as f:\n",
    "    fho_main = json.load(f)"
   ]
  },
  {
   "attachments": {},
   "cell_type": "markdown",
   "metadata": {},
   "source": [
    "Create a dataset from all the narrated actions."
   ]
  },
  {
   "cell_type": "code",
   "execution_count": null,
   "metadata": {},
   "outputs": [],
   "source": [
    "from datasets import Dataset\n",
    "\n",
    "dataset = Dataset.from_list(\n",
    "    [\n",
    "        {\"clip_uid\": interval[\"clip_uid\"], **action}\n",
    "        for video in fho_main[\"videos\"]\n",
    "        for interval in video[\"annotated_intervals\"]\n",
    "        for action in interval[\"narrated_actions\"]\n",
    "    ]\n",
    ")\n",
    "dataset"
   ]
  },
  {
   "attachments": {},
   "cell_type": "markdown",
   "metadata": {},
   "source": [
    "Filter rejected, invalid and non-C actions."
   ]
  },
  {
   "cell_type": "code",
   "execution_count": null,
   "metadata": {},
   "outputs": [],
   "source": [
    "import re\n",
    "\n",
    "C_REGEX = re.compile(r\"^\\#C C\", re.IGNORECASE)\n",
    "\n",
    "dataset = dataset.filter(\n",
    "    lambda is_rejected, is_valid_action, narration_text: not is_rejected\n",
    "    and is_valid_action\n",
    "    and C_REGEX.match(narration_text),\n",
    "    input_columns=[\"is_rejected\", \"is_valid_action\", \"narration_text\"],\n",
    ")\n",
    "print(f\"After filtering actions: {len(dataset)}\")"
   ]
  },
  {
   "attachments": {},
   "cell_type": "markdown",
   "metadata": {},
   "source": [
    "Remove unused columns."
   ]
  },
  {
   "cell_type": "code",
   "execution_count": null,
   "metadata": {},
   "outputs": [],
   "source": [
    "dataset = dataset.remove_columns(\n",
    "    [\n",
    "        \"warnings\",\n",
    "        \"uid\",\n",
    "        \"start_sec\",\n",
    "        \"end_sec\",\n",
    "        \"start_frame\",\n",
    "        \"end_frame\",\n",
    "        \"is_valid_action\",\n",
    "        \"is_partial\",\n",
    "        \"clip_start_frame\",\n",
    "        \"clip_end_frame\",\n",
    "        \"narration_timestamp_sec\",\n",
    "        \"clip_narration_timestamp_sec\",\n",
    "        \"narration_annotation_uid\",\n",
    "        \"structured_verb\",\n",
    "        \"freeform_verb\",\n",
    "        \"state_transition\",\n",
    "        \"critical_frames\",\n",
    "        \"clip_critical_frames\",\n",
    "        \"frames\",\n",
    "        \"is_rejected\",\n",
    "        \"is_invalid_annotation\",\n",
    "        \"reject_reason\",\n",
    "        \"stage\",\n",
    "    ]\n",
    ")\n",
    "dataset"
   ]
  },
  {
   "attachments": {},
   "cell_type": "markdown",
   "metadata": {},
   "source": [
    "Now, let's tokenize the prompt and `narration_text` into `input_ids` and `labels` columns respectively."
   ]
  },
  {
   "cell_type": "code",
   "execution_count": null,
   "metadata": {},
   "outputs": [],
   "source": [
    "from functools import partial\n",
    "\n",
    "from transformers import Blip2Processor\n",
    "\n",
    "INSTR_PROMPT = \"What is the camera wearer doing?\"\n",
    "\n",
    "\n",
    "def batch_tokenize(tokenizer, examples):\n",
    "    return {\n",
    "        \"input_ids\": tokenizer(\n",
    "            [INSTR_PROMPT for _ in range(len(examples[\"narration_text\"]))],\n",
    "            return_attention_mask=False,\n",
    "        ).input_ids,\n",
    "        \"labels\": tokenizer(\n",
    "            examples[\"narration_text\"], return_attention_mask=False\n",
    "        ).input_ids,\n",
    "    }\n",
    "\n",
    "\n",
    "processor = Blip2Processor.from_pretrained(\"Salesforce/blip2-flan-t5-xl\")\n",
    "dataset = dataset.map(\n",
    "    partial(batch_tokenize, processor.tokenizer),\n",
    "    batched=True,\n",
    "    remove_columns=\"narration_text\",\n",
    ")\n",
    "print(dataset)\n",
    "print(dataset[10])"
   ]
  }
 ],
 "metadata": {
  "kernelspec": {
   "display_name": "fbev-jEv4LXUZ-py3.10",
   "language": "python",
   "name": "python3"
  },
  "language_info": {
   "codemirror_mode": {
    "name": "ipython",
    "version": 3
   },
   "file_extension": ".py",
   "mimetype": "text/x-python",
   "name": "python",
   "nbconvert_exporter": "python",
   "pygments_lexer": "ipython3",
   "version": "3.10.10"
  }
 },
 "nbformat": 4,
 "nbformat_minor": 2
}
