{
 "cells": [
  {
   "attachments": {},
   "cell_type": "markdown",
   "metadata": {},
   "source": [
    "# Test `EpicKitchensDataset`"
   ]
  },
  {
   "attachments": {},
   "cell_type": "markdown",
   "metadata": {},
   "source": [
    "Define some helpful functions"
   ]
  },
  {
   "cell_type": "code",
   "execution_count": null,
   "metadata": {},
   "outputs": [],
   "source": [
    "import imageio.v3 as iio\n",
    "import numpy as np\n",
    "from IPython.display import HTML, display\n",
    "\n",
    "\n",
    "def draw_random_items(dataset, num):\n",
    "    dataset_iter = iter(dataset)\n",
    "    return [next(dataset_iter) for _ in range(num)]\n",
    "\n",
    "\n",
    "def display_gif(video_tensor, gif_file_name):\n",
    "    \"\"\"Prepares and displays a GIF from a video tensor.\n",
    "\n",
    "    The video tensor is expected to have the following shape:\n",
    "    (num_channels, num_frames, height, width).\n",
    "    \"\"\"\n",
    "    iio.imwrite(\n",
    "        gif_file_name,\n",
    "        video_tensor.permute(1, 2, 3, 0).numpy().astype(np.uint8),\n",
    "        extension=\".gif\",\n",
    "        # infinite loop\n",
    "        loop=0,\n",
    "    )\n",
    "    html = f'<img src=\"{gif_file_name}\" />'\n",
    "    display(HTML(html))\n"
   ]
  },
  {
   "attachments": {},
   "cell_type": "markdown",
   "metadata": {},
   "source": [
    "Load the train split."
   ]
  },
  {
   "cell_type": "code",
   "execution_count": null,
   "metadata": {},
   "outputs": [],
   "source": [
    "from eilev.data.epic_kitchens import EpicKitchensDataset\n",
    "\n",
    "train_dataset = EpicKitchensDataset(\n",
    "    \"../../EPIC-KITCHENS/annotations/EPIC_100_train_full_sent.csv\",\n",
    "    \"../../EPIC-KITCHENS/55\",\n",
    "    \"../../EPIC-KITCHENS/100\",\n",
    "    random_clip=True,\n",
    ")\n",
    "print(train_dataset.split)\n"
   ]
  },
  {
   "attachments": {},
   "cell_type": "markdown",
   "metadata": {},
   "source": [
    "Sample 3 items and show."
   ]
  },
  {
   "cell_type": "code",
   "execution_count": null,
   "metadata": {},
   "outputs": [],
   "source": [
    "for i, item in enumerate(draw_random_items(train_dataset, 3)):\n",
    "    print({k: v for k, v in item.items() if k != \"video\"})\n",
    "    display_gif(item[\"video\"][:, ::30, ...], f\"train_{i}.gif\")\n"
   ]
  },
  {
   "attachments": {},
   "cell_type": "markdown",
   "metadata": {},
   "source": [
    "Load the val split."
   ]
  },
  {
   "cell_type": "code",
   "execution_count": null,
   "metadata": {},
   "outputs": [],
   "source": [
    "val_dataset = EpicKitchensDataset(\n",
    "    \"../../EPIC-KITCHENS/annotations/EPIC_100_validation_full_sent.csv\",\n",
    "    \"../../EPIC-KITCHENS/55\",\n",
    "    \"../../EPIC-KITCHENS/100\",\n",
    "    random_clip=True,\n",
    ")\n",
    "print(val_dataset.split)\n"
   ]
  },
  {
   "attachments": {},
   "cell_type": "markdown",
   "metadata": {},
   "source": [
    "Sample 3 items and show."
   ]
  },
  {
   "cell_type": "code",
   "execution_count": null,
   "metadata": {},
   "outputs": [],
   "source": [
    "for i, item in enumerate(draw_random_items(val_dataset, 3)):\n",
    "    print({k: v for k, v in item.items() if k != \"video\"})\n",
    "    display_gif(item[\"video\"][:, ::30, ...], f\"val_{i}.gif\")\n"
   ]
  }
 ],
 "metadata": {
  "kernelspec": {
   "display_name": "fbev-jEv4LXUZ-py3.10",
   "language": "python",
   "name": "python3"
  },
  "language_info": {
   "codemirror_mode": {
    "name": "ipython",
    "version": 3
   },
   "file_extension": ".py",
   "mimetype": "text/x-python",
   "name": "python",
   "nbconvert_exporter": "python",
   "pygments_lexer": "ipython3",
   "version": "3.10.10"
  }
 },
 "nbformat": 4,
 "nbformat_minor": 2
}
